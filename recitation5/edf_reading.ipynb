{
 "cells": [
  {
   "cell_type": "markdown",
   "metadata": {},
   "source": [
    "## EDF --- An Autograd Engine for instruction\n",
    "#### (based on joint discussions with David McAllester)"
   ]
  },
  {
   "cell_type": "code",
   "execution_count": 1,
   "metadata": {},
   "outputs": [],
   "source": [
    "import numpy as np\n",
    "\n",
    "# Global list of different kinds of components\n",
    "ops = []\n",
    "params = []\n",
    "values = []"
   ]
  },
  {
   "cell_type": "markdown",
   "metadata": {},
   "source": [
    "## Forward and Backward passes"
   ]
  },
  {
   "cell_type": "code",
   "execution_count": 3,
   "metadata": {
    "code_folding": [
     1,
     5
    ]
   },
   "outputs": [],
   "source": [
    "# Global forward\n",
    "def Forward():\n",
    "    for c in ops: c.forward()\n",
    "\n",
    "# Global backward    \n",
    "def Backward(loss):\n",
    "    for c in ops:\n",
    "        c.grad = np.zeros_like(c.top)\n",
    "    for c in params:\n",
    "        c.grad = np.zeros_like(c.top)\n",
    "\n",
    "    loss.grad = np.ones_like(loss.top)\n",
    "    for c in ops[::-1]: c.backward() "
   ]
  },
  {
   "cell_type": "markdown",
   "metadata": {},
   "source": [
    "## Stochastic Gradient Descent"
   ]
  },
  {
   "cell_type": "code",
   "execution_count": 4,
   "metadata": {
    "code_folding": [
     1
    ]
   },
   "outputs": [],
   "source": [
    "# SGD\n",
    "def SGD(lr):\n",
    "    for p in params:\n",
    "        p.top = p.top - lr*p.grad"
   ]
  },
  {
   "cell_type": "markdown",
   "metadata": {},
   "source": [
    "## Different kinds of nodes"
   ]
  },
  {
   "cell_type": "code",
   "execution_count": 6,
   "metadata": {
    "code_folding": [
     3,
     7,
     11
    ]
   },
   "outputs": [],
   "source": [
    "\n",
    "# Values (Inputs)\n",
    "class Value:\n",
    "    def __init__(self):\n",
    "        values.append(self)\n",
    "\n",
    "    def set(self,value):\n",
    "        self.top = np.float32(value).copy()\n",
    "\n",
    "# Parameters (Weights we want to learn)\n",
    "class Param:\n",
    "    def __init__(self):\n",
    "        params.append(self)\n",
    "\n",
    "    def set(self,value):\n",
    "        self.top = np.float32(value).copy()\n"
   ]
  },
  {
   "cell_type": "markdown",
   "metadata": {},
   "source": [
    "## Operations"
   ]
  },
  {
   "cell_type": "code",
   "execution_count": 7,
   "metadata": {
    "code_folding": [
     1,
     22
    ]
   },
   "outputs": [],
   "source": [
    "# Add layer (x + y) where y is same shape as x or is 1-D\n",
    "class add:\n",
    "    def __init__(self,x,y):\n",
    "        ops.append(self)\n",
    "        self.x = x\n",
    "        self.y = y\n",
    "\n",
    "    def forward(self):\n",
    "        self.top = self.x.top + self.y.top\n",
    "\n",
    "    def backward(self):\n",
    "        if self.x in ops or self.x in params:\n",
    "            self.x.grad = self.x.grad + self.grad\n",
    "\n",
    "        if self.y in ops or self.y in params:\n",
    "            if len(self.y.top.shape) < len(self.grad.shape):\n",
    "                ygrad = np.sum(self.grad,axis=tuple(range(len(self.grad.shape)-1)))\n",
    "            else:\n",
    "                ygrad= self.grad\n",
    "            self.y.grad = self.y.grad + ygrad"
   ]
  },
  {
   "cell_type": "code",
   "execution_count": 8,
   "metadata": {},
   "outputs": [],
   "source": [
    "# Matrix multiply (fully-connected layer)\n",
    "class matmul:\n",
    "    def __init__(self,x,y):\n",
    "        ops.append(self)\n",
    "        self.x = x\n",
    "        self.y = y\n",
    "\n",
    "    def forward(self):\n",
    "        self.top = np.matmul(self.x.top,self.y.top)\n",
    "\n",
    "    def backward(self):\n",
    "        if self.x in ops or self.x in params:\n",
    "            self.x.grad = self.x.grad + np.matmul(self.y.top,self.grad.T).T\n",
    "        if self.y in ops or self.y in params:\n",
    "            self.y.grad = self.y.grad + np.matmul(self.x.top.T,self.grad)"
   ]
  },
  {
   "cell_type": "code",
   "execution_count": 6,
   "metadata": {
    "code_folding": [
     1,
     17
    ],
    "collapsed": true
   },
   "outputs": [],
   "source": [
    "# Downsample by 2    \n",
    "class down2:\n",
    "    def __init__(self,x):\n",
    "        ops.append(self)\n",
    "        self.x = x\n",
    "        \n",
    "    def forward(self):\n",
    "        self.top = self.x.top[:,::2,::2,:]\n",
    "\n",
    "    def backward(self):\n",
    "        if self.x in ops or self.x in params:\n",
    "            grd = np.zeros_like(self.x.top)\n",
    "            grd[:,::2,::2,:] = self.grad\n",
    "            self.x.grad = self.x.grad + grd\n",
    "\n",
    "\n",
    "# Flatten (conv to fc)\n",
    "class flatten:\n",
    "    def __init__(self,x):\n",
    "        ops.append(self)\n",
    "        self.x = x\n",
    "        \n",
    "    def forward(self):\n",
    "        self.top = np.reshape(self.x.top,[self.x.top.shape[0],-1])\n",
    "\n",
    "    def backward(self):\n",
    "        if self.x in ops or self.x in params:\n",
    "            self.x.grad = self.x.grad + np.reshape(self.grad,self.x.top.shape)\n"
   ]
  }
 ],
 "metadata": {
  "kernelspec": {
   "display_name": "Python 3",
   "language": "python",
   "name": "python3"
  },
  "language_info": {
   "codemirror_mode": {
    "name": "ipython",
    "version": 3
   },
   "file_extension": ".py",
   "mimetype": "text/x-python",
   "name": "python",
   "nbconvert_exporter": "python",
   "pygments_lexer": "ipython3",
   "version": "3.7.6"
  }
 },
 "nbformat": 4,
 "nbformat_minor": 2
}
