{
 "cells": [
  {
   "cell_type": "code",
   "execution_count": 1,
   "metadata": {},
   "outputs": [],
   "source": [
    "import numpy as np\n",
    "import edf"
   ]
  },
  {
   "cell_type": "code",
   "execution_count": 2,
   "metadata": {},
   "outputs": [],
   "source": [
    "ops = edf.ops\n",
    "params = edf.params\n",
    "values = edf.values\n",
    "\n",
    "# Average pooling\n",
    "class avg_pool:\n",
    "    def __init__(self,x,sz):\n",
    "        ops.append(self)\n",
    "        self.x = x\n",
    "        self.sz = sz\n",
    "\n",
    "    def forward(self):\n",
    "        B,H,W,C = self.x.top.shape\n",
    "        top = np.zeros([B,H-self.sz+1,W-self.sz+1,C])\n",
    "        for i in range(self.sz):\n",
    "            for j in range(self.sz):\n",
    "                xcrop = self.x.top[:, i:(H-self.sz+1+i), j:(W-self.sz+1+j), :].copy()\n",
    "                top = top + xcrop\n",
    "        \n",
    "        self.top = top / np.float32(self.sz*self.sz)\n",
    "        print(self.x.top[0,:,:,0])\n",
    "        print(self.top[0,:,:,0])\n",
    "\n",
    "    def backward(self):\n",
    "        if self.x in ops or self.x in params:\n",
    "            B,H,W,C = self.x.top.shape\n",
    "            xgrad = np.zeros([B,H,W,C])\n",
    "            for i in range(self.sz):\n",
    "                for j in range(self.sz):\n",
    "                    xgrad[:, i:(H-self.sz+1+i), j:(W-self.sz+1+j), :] += self.grad / (self.sz*self.sz)\n",
    "\n",
    "            self.x.grad = self.x.grad + xgrad\n",
    "            print(self.grad[0,:,:,0])\n",
    "            print(self.x.grad[0,:,:,0])\n",
    "            \n",
    "            \n",
    "edf.avg_pool = avg_pool"
   ]
  },
  {
   "cell_type": "code",
   "execution_count": 3,
   "metadata": {
    "code_folding": []
   },
   "outputs": [],
   "source": [
    "#######################################\n",
    "\n",
    "# Inputs and parameters\n",
    "inp = edf.Param()\n",
    "lab = edf.Value()\n",
    "\n",
    "# Model\n",
    "y = edf.avg_pool(inp,2)\n",
    "\n",
    "# Loss\n",
    "loss = edf.add(y,lab)"
   ]
  },
  {
   "cell_type": "code",
   "execution_count": 4,
   "metadata": {
    "code_folding": []
   },
   "outputs": [
    {
     "name": "stdout",
     "output_type": "stream",
     "text": [
      "[[ 0.  2.  4.  6.  8.]\n",
      " [10. 12. 14. 16. 18.]\n",
      " [20. 22. 24. 26. 28.]\n",
      " [30. 32. 34. 36. 38.]\n",
      " [40. 42. 44. 46. 48.]]\n",
      "[[ 6.  8. 10. 12.]\n",
      " [16. 18. 20. 22.]\n",
      " [26. 28. 30. 32.]\n",
      " [36. 38. 40. 42.]]\n"
     ]
    }
   ],
   "source": [
    "# Forward test\n",
    "data = np.arange(50).reshape([1,5,5,2])\n",
    "inp.set(data)\n",
    "l = np.ones([1,4,4,2])*(-1.0)\n",
    "lab.set(l)\n",
    "\n",
    "edf.Forward()"
   ]
  },
  {
   "cell_type": "code",
   "execution_count": 5,
   "metadata": {
    "code_folding": []
   },
   "outputs": [
    {
     "name": "stdout",
     "output_type": "stream",
     "text": [
      "[[1. 1. 1. 1.]\n",
      " [1. 1. 1. 1.]\n",
      " [1. 1. 1. 1.]\n",
      " [1. 1. 1. 1.]]\n",
      "[[0.25 0.5  0.5  0.5  0.25]\n",
      " [0.5  1.   1.   1.   0.5 ]\n",
      " [0.5  1.   1.   1.   0.5 ]\n",
      " [0.5  1.   1.   1.   0.5 ]\n",
      " [0.25 0.5  0.5  0.5  0.25]]\n"
     ]
    }
   ],
   "source": [
    "# Backward test\n",
    "edf.Backward(loss)"
   ]
  }
 ],
 "metadata": {
  "kernelspec": {
   "display_name": "Python 3",
   "language": "python",
   "name": "python3"
  },
  "language_info": {
   "codemirror_mode": {
    "name": "ipython",
    "version": 3
   },
   "file_extension": ".py",
   "mimetype": "text/x-python",
   "name": "python",
   "nbconvert_exporter": "python",
   "pygments_lexer": "ipython3",
   "version": "3.7.6"
  }
 },
 "nbformat": 4,
 "nbformat_minor": 2
}
